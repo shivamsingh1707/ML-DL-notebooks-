{
 "cells": [
  {
   "cell_type": "code",
   "execution_count": 1,
   "id": "51832eb1",
   "metadata": {
    "_cell_guid": "b1076dfc-b9ad-4769-8c92-a6c4dae69d19",
    "_uuid": "8f2839f25d086af736a60e9eeb907d3b93b6e0e5",
    "execution": {
     "iopub.execute_input": "2023-08-15T12:12:57.557876Z",
     "iopub.status.busy": "2023-08-15T12:12:57.556914Z",
     "iopub.status.idle": "2023-08-15T12:13:06.804584Z",
     "shell.execute_reply": "2023-08-15T12:13:06.803427Z"
    },
    "papermill": {
     "duration": 9.255068,
     "end_time": "2023-08-15T12:13:06.807312",
     "exception": false,
     "start_time": "2023-08-15T12:12:57.552244",
     "status": "completed"
    },
    "tags": []
   },
   "outputs": [
    {
     "name": "stderr",
     "output_type": "stream",
     "text": [
      "/opt/conda/lib/python3.10/site-packages/scipy/__init__.py:146: UserWarning: A NumPy version >=1.16.5 and <1.23.0 is required for this version of SciPy (detected version 1.23.5\n",
      "  warnings.warn(f\"A NumPy version >={np_minversion} and <{np_maxversion}\"\n",
      "/opt/conda/lib/python3.10/site-packages/tensorflow_io/python/ops/__init__.py:98: UserWarning: unable to load libtensorflow_io_plugins.so: unable to open file: libtensorflow_io_plugins.so, from paths: ['/opt/conda/lib/python3.10/site-packages/tensorflow_io/python/ops/libtensorflow_io_plugins.so']\n",
      "caused by: ['/opt/conda/lib/python3.10/site-packages/tensorflow_io/python/ops/libtensorflow_io_plugins.so: undefined symbol: _ZN3tsl6StatusC1EN10tensorflow5error4CodeESt17basic_string_viewIcSt11char_traitsIcEENS_14SourceLocationE']\n",
      "  warnings.warn(f\"unable to load libtensorflow_io_plugins.so: {e}\")\n",
      "/opt/conda/lib/python3.10/site-packages/tensorflow_io/python/ops/__init__.py:104: UserWarning: file system plugins are not loaded: unable to open file: libtensorflow_io.so, from paths: ['/opt/conda/lib/python3.10/site-packages/tensorflow_io/python/ops/libtensorflow_io.so']\n",
      "caused by: ['/opt/conda/lib/python3.10/site-packages/tensorflow_io/python/ops/libtensorflow_io.so: undefined symbol: _ZTVN10tensorflow13GcsFileSystemE']\n",
      "  warnings.warn(f\"file system plugins are not loaded: {e}\")\n"
     ]
    }
   ],
   "source": [
    "import glob as gb\n",
    "import matplotlib.pyplot as plt\n",
    "import seaborn as sns\n",
    "import os\n",
    "import cv2\n",
    "import tensorflow as tf\n",
    "from tensorflow import keras\n",
    "from keras import layers\n",
    "from keras.layers import Dense, Flatten\n",
    "from keras.models import Sequential\n",
    "from keras.optimizers import Adam\n",
    "path = '/kaggle/input/vehicle-type-recognition/Dataset'"
   ]
  },
  {
   "cell_type": "code",
   "execution_count": 2,
   "id": "eea9f08b",
   "metadata": {
    "execution": {
     "iopub.execute_input": "2023-08-15T12:13:06.815739Z",
     "iopub.status.busy": "2023-08-15T12:13:06.815009Z",
     "iopub.status.idle": "2023-08-15T12:13:06.819888Z",
     "shell.execute_reply": "2023-08-15T12:13:06.818913Z"
    },
    "papermill": {
     "duration": 0.011098,
     "end_time": "2023-08-15T12:13:06.822011",
     "exception": false,
     "start_time": "2023-08-15T12:13:06.810913",
     "status": "completed"
    },
    "tags": []
   },
   "outputs": [],
   "source": [
    "image_height = 351\n",
    "image_weight = 351\n",
    "batch_size = 10"
   ]
  },
  {
   "cell_type": "code",
   "execution_count": 3,
   "id": "bc43cfe9",
   "metadata": {
    "execution": {
     "iopub.execute_input": "2023-08-15T12:13:06.829035Z",
     "iopub.status.busy": "2023-08-15T12:13:06.828773Z",
     "iopub.status.idle": "2023-08-15T12:13:09.763371Z",
     "shell.execute_reply": "2023-08-15T12:13:09.762353Z"
    },
    "papermill": {
     "duration": 2.940446,
     "end_time": "2023-08-15T12:13:09.765414",
     "exception": false,
     "start_time": "2023-08-15T12:13:06.824968",
     "status": "completed"
    },
    "tags": []
   },
   "outputs": [
    {
     "name": "stdout",
     "output_type": "stream",
     "text": [
      "Found 400 files belonging to 4 classes.\n",
      "Using 340 files for training.\n",
      "Found 400 files belonging to 4 classes.\n",
      "Using 60 files for validation.\n"
     ]
    }
   ],
   "source": [
    "training_data = keras.preprocessing.image_dataset_from_directory(\n",
    "    path,\n",
    "    batch_size = 16,\n",
    "    image_size =(351,351),\n",
    "\n",
    "    shuffle = True,\n",
    "    seed =123,\n",
    "    subset ='training',\n",
    "    validation_split=0.15\n",
    "    )\n",
    "validation_data =keras.preprocessing.image_dataset_from_directory(\n",
    "    path,\n",
    "    batch_size = 16,\n",
    "    image_size =(351,351),\n",
    "\n",
    "    shuffle = True,\n",
    "    seed =123,\n",
    "    validation_split =0.15,\n",
    "    subset ='validation'\n",
    "    \n",
    "    )"
   ]
  },
  {
   "cell_type": "code",
   "execution_count": 4,
   "id": "055169a9",
   "metadata": {
    "execution": {
     "iopub.execute_input": "2023-08-15T12:13:09.775085Z",
     "iopub.status.busy": "2023-08-15T12:13:09.773426Z",
     "iopub.status.idle": "2023-08-15T12:13:15.410645Z",
     "shell.execute_reply": "2023-08-15T12:13:15.409664Z"
    },
    "papermill": {
     "duration": 5.644103,
     "end_time": "2023-08-15T12:13:15.413139",
     "exception": false,
     "start_time": "2023-08-15T12:13:09.769036",
     "status": "completed"
    },
    "tags": []
   },
   "outputs": [
    {
     "name": "stdout",
     "output_type": "stream",
     "text": [
      "Downloading data from https://storage.googleapis.com/tensorflow/keras-applications/resnet/resnet50_weights_tf_dim_ordering_tf_kernels_notop.h5\n",
      "94765736/94765736 [==============================] - 3s 0us/step\n"
     ]
    }
   ],
   "source": [
    "resnet_model = Sequential()\n",
    "\n",
    "pretrained_model= keras.applications.ResNet50(include_top=False,\n",
    "                   input_shape=(351,351,3),\n",
    "                   pooling='avg',classes=5,\n",
    "                   weights='imagenet')\n",
    "for layer in pretrained_model.layers:\n",
    "        layer.trainable=False\n",
    "\n",
    "resnet_model.add(pretrained_model)\n",
    "resnet_model.add(Flatten())\n",
    "resnet_model.add(Dense(512, activation='relu'))\n",
    "resnet_model.add(Dense(4, activation='softmax'))"
   ]
  },
  {
   "cell_type": "code",
   "execution_count": 5,
   "id": "6a3cc755",
   "metadata": {
    "execution": {
     "iopub.execute_input": "2023-08-15T12:13:15.435904Z",
     "iopub.status.busy": "2023-08-15T12:13:15.435495Z",
     "iopub.status.idle": "2023-08-15T12:13:15.459381Z",
     "shell.execute_reply": "2023-08-15T12:13:15.458488Z"
    },
    "papermill": {
     "duration": 0.040326,
     "end_time": "2023-08-15T12:13:15.461715",
     "exception": false,
     "start_time": "2023-08-15T12:13:15.421389",
     "status": "completed"
    },
    "tags": []
   },
   "outputs": [],
   "source": [
    "resnet_model.compile(loss='sparse_categorical_crossentropy', optimizer=keras.optimizers.SGD(lr=0.00009), metrics=['accuracy'])"
   ]
  },
  {
   "cell_type": "code",
   "execution_count": 6,
   "id": "8e3397f6",
   "metadata": {
    "execution": {
     "iopub.execute_input": "2023-08-15T12:13:15.478292Z",
     "iopub.status.busy": "2023-08-15T12:13:15.477986Z",
     "iopub.status.idle": "2023-08-15T12:14:50.341837Z",
     "shell.execute_reply": "2023-08-15T12:14:50.340768Z"
    },
    "papermill": {
     "duration": 94.875064,
     "end_time": "2023-08-15T12:14:50.344585",
     "exception": false,
     "start_time": "2023-08-15T12:13:15.469521",
     "status": "completed"
    },
    "tags": []
   },
   "outputs": [
    {
     "name": "stdout",
     "output_type": "stream",
     "text": [
      "Epoch 1/10\n",
      "22/22 [==============================] - 22s 436ms/step - loss: 0.8784 - accuracy: 0.6735 - val_loss: 0.4434 - val_accuracy: 0.9000\n",
      "Epoch 2/10\n",
      "22/22 [==============================] - 8s 225ms/step - loss: 0.2889 - accuracy: 0.9235 - val_loss: 0.2487 - val_accuracy: 0.9500\n",
      "Epoch 3/10\n",
      "22/22 [==============================] - 7s 217ms/step - loss: 0.1844 - accuracy: 0.9618 - val_loss: 0.2509 - val_accuracy: 0.9667\n",
      "Epoch 4/10\n",
      "22/22 [==============================] - 7s 221ms/step - loss: 0.1247 - accuracy: 0.9824 - val_loss: 0.1752 - val_accuracy: 0.9500\n",
      "Epoch 5/10\n",
      "22/22 [==============================] - 8s 261ms/step - loss: 0.0967 - accuracy: 0.9912 - val_loss: 0.2162 - val_accuracy: 0.9167\n",
      "Epoch 6/10\n",
      "22/22 [==============================] - 8s 225ms/step - loss: 0.0809 - accuracy: 1.0000 - val_loss: 0.1614 - val_accuracy: 0.9833\n",
      "Epoch 7/10\n",
      "22/22 [==============================] - 7s 218ms/step - loss: 0.0664 - accuracy: 0.9971 - val_loss: 0.1373 - val_accuracy: 0.9833\n",
      "Epoch 8/10\n",
      "22/22 [==============================] - 7s 224ms/step - loss: 0.0565 - accuracy: 1.0000 - val_loss: 0.1294 - val_accuracy: 0.9667\n",
      "Epoch 9/10\n",
      "22/22 [==============================] - 8s 251ms/step - loss: 0.0502 - accuracy: 1.0000 - val_loss: 0.1489 - val_accuracy: 0.9833\n",
      "Epoch 10/10\n",
      "22/22 [==============================] - 8s 227ms/step - loss: 0.0438 - accuracy: 1.0000 - val_loss: 0.1242 - val_accuracy: 0.9833\n"
     ]
    }
   ],
   "source": [
    "epochs=10\n",
    "history = resnet_model.fit(\n",
    "    \n",
    "  training_data,\n",
    "  validation_data=validation_data,\n",
    "  epochs=epochs\n",
    ")"
   ]
  },
  {
   "cell_type": "code",
   "execution_count": null,
   "id": "97694279",
   "metadata": {
    "papermill": {
     "duration": 0.024373,
     "end_time": "2023-08-15T12:14:50.394721",
     "exception": false,
     "start_time": "2023-08-15T12:14:50.370348",
     "status": "completed"
    },
    "tags": []
   },
   "outputs": [],
   "source": []
  },
  {
   "cell_type": "code",
   "execution_count": null,
   "id": "6278a46b",
   "metadata": {
    "papermill": {
     "duration": 0.024307,
     "end_time": "2023-08-15T12:14:50.443708",
     "exception": false,
     "start_time": "2023-08-15T12:14:50.419401",
     "status": "completed"
    },
    "tags": []
   },
   "outputs": [],
   "source": []
  }
 ],
 "metadata": {
  "kernelspec": {
   "display_name": "Python 3",
   "language": "python",
   "name": "python3"
  },
  "language_info": {
   "codemirror_mode": {
    "name": "ipython",
    "version": 3
   },
   "file_extension": ".py",
   "mimetype": "text/x-python",
   "name": "python",
   "nbconvert_exporter": "python",
   "pygments_lexer": "ipython3",
   "version": "3.10.12"
  },
  "papermill": {
   "default_parameters": {},
   "duration": 125.744835,
   "end_time": "2023-08-15T12:14:53.315168",
   "environment_variables": {},
   "exception": null,
   "input_path": "__notebook__.ipynb",
   "output_path": "__notebook__.ipynb",
   "parameters": {},
   "start_time": "2023-08-15T12:12:47.570333",
   "version": "2.4.0"
  }
 },
 "nbformat": 4,
 "nbformat_minor": 5
}
