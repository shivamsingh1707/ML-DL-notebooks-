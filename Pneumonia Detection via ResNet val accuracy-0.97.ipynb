{
 "cells": [
  {
   "cell_type": "code",
   "execution_count": 1,
   "id": "873002dd",
   "metadata": {
    "_cell_guid": "b1076dfc-b9ad-4769-8c92-a6c4dae69d19",
    "_uuid": "8f2839f25d086af736a60e9eeb907d3b93b6e0e5",
    "execution": {
     "iopub.execute_input": "2023-08-15T11:56:48.285958Z",
     "iopub.status.busy": "2023-08-15T11:56:48.285627Z",
     "iopub.status.idle": "2023-08-15T11:56:48.297508Z",
     "shell.execute_reply": "2023-08-15T11:56:48.296644Z"
    },
    "papermill": {
     "duration": 0.018402,
     "end_time": "2023-08-15T11:56:48.299498",
     "exception": false,
     "start_time": "2023-08-15T11:56:48.281096",
     "status": "completed"
    },
    "tags": []
   },
   "outputs": [],
   "source": [
    "tpath  = '/kaggle/input/pneumonia-chest-x-ray-dataset/train'\n",
    "vpath = '/kaggle/input/pneumonia-chest-x-ray-dataset/val'"
   ]
  },
  {
   "cell_type": "code",
   "execution_count": 2,
   "id": "6500c9b5",
   "metadata": {
    "execution": {
     "iopub.execute_input": "2023-08-15T11:56:48.306545Z",
     "iopub.status.busy": "2023-08-15T11:56:48.306031Z",
     "iopub.status.idle": "2023-08-15T11:56:57.310202Z",
     "shell.execute_reply": "2023-08-15T11:56:57.309220Z"
    },
    "papermill": {
     "duration": 9.010047,
     "end_time": "2023-08-15T11:56:57.312518",
     "exception": false,
     "start_time": "2023-08-15T11:56:48.302471",
     "status": "completed"
    },
    "tags": []
   },
   "outputs": [
    {
     "name": "stderr",
     "output_type": "stream",
     "text": [
      "/opt/conda/lib/python3.10/site-packages/scipy/__init__.py:146: UserWarning: A NumPy version >=1.16.5 and <1.23.0 is required for this version of SciPy (detected version 1.23.5\n",
      "  warnings.warn(f\"A NumPy version >={np_minversion} and <{np_maxversion}\"\n",
      "/opt/conda/lib/python3.10/site-packages/tensorflow_io/python/ops/__init__.py:98: UserWarning: unable to load libtensorflow_io_plugins.so: unable to open file: libtensorflow_io_plugins.so, from paths: ['/opt/conda/lib/python3.10/site-packages/tensorflow_io/python/ops/libtensorflow_io_plugins.so']\n",
      "caused by: ['/opt/conda/lib/python3.10/site-packages/tensorflow_io/python/ops/libtensorflow_io_plugins.so: undefined symbol: _ZN3tsl6StatusC1EN10tensorflow5error4CodeESt17basic_string_viewIcSt11char_traitsIcEENS_14SourceLocationE']\n",
      "  warnings.warn(f\"unable to load libtensorflow_io_plugins.so: {e}\")\n",
      "/opt/conda/lib/python3.10/site-packages/tensorflow_io/python/ops/__init__.py:104: UserWarning: file system plugins are not loaded: unable to open file: libtensorflow_io.so, from paths: ['/opt/conda/lib/python3.10/site-packages/tensorflow_io/python/ops/libtensorflow_io.so']\n",
      "caused by: ['/opt/conda/lib/python3.10/site-packages/tensorflow_io/python/ops/libtensorflow_io.so: undefined symbol: _ZTVN10tensorflow13GcsFileSystemE']\n",
      "  warnings.warn(f\"file system plugins are not loaded: {e}\")\n"
     ]
    }
   ],
   "source": [
    "import glob as gb\n",
    "import matplotlib.pyplot as plt\n",
    "import seaborn as sns\n",
    "import os\n",
    "import cv2\n",
    "import tensorflow as tf\n",
    "from tensorflow import keras\n",
    "from keras import layers\n",
    "from keras.layers import Dense, Flatten\n",
    "from keras.models import Sequential\n",
    "from keras.optimizers import Adam"
   ]
  },
  {
   "cell_type": "code",
   "execution_count": 3,
   "id": "65a80d34",
   "metadata": {
    "execution": {
     "iopub.execute_input": "2023-08-15T11:56:57.321010Z",
     "iopub.status.busy": "2023-08-15T11:56:57.320004Z",
     "iopub.status.idle": "2023-08-15T11:56:57.325024Z",
     "shell.execute_reply": "2023-08-15T11:56:57.324104Z"
    },
    "papermill": {
     "duration": 0.011186,
     "end_time": "2023-08-15T11:56:57.327030",
     "exception": false,
     "start_time": "2023-08-15T11:56:57.315844",
     "status": "completed"
    },
    "tags": []
   },
   "outputs": [],
   "source": [
    "image_height = 227\n",
    "image_weight = 227\n",
    "batch_size = 10"
   ]
  },
  {
   "cell_type": "code",
   "execution_count": 4,
   "id": "4194beb3",
   "metadata": {
    "execution": {
     "iopub.execute_input": "2023-08-15T11:56:57.334255Z",
     "iopub.status.busy": "2023-08-15T11:56:57.333971Z",
     "iopub.status.idle": "2023-08-15T11:57:09.291716Z",
     "shell.execute_reply": "2023-08-15T11:57:09.290810Z"
    },
    "papermill": {
     "duration": 11.963697,
     "end_time": "2023-08-15T11:57:09.293749",
     "exception": false,
     "start_time": "2023-08-15T11:56:57.330052",
     "status": "completed"
    },
    "tags": []
   },
   "outputs": [
    {
     "name": "stdout",
     "output_type": "stream",
     "text": [
      "Found 5216 files belonging to 2 classes.\n",
      "Using 4434 files for training.\n",
      "Found 5216 files belonging to 2 classes.\n",
      "Using 782 files for validation.\n"
     ]
    }
   ],
   "source": [
    "training_data = keras.preprocessing.image_dataset_from_directory(\n",
    "    tpath,\n",
    "    batch_size = 10,\n",
    "    image_size =(227,227),\n",
    "\n",
    "    shuffle = True,\n",
    "    seed =123,\n",
    "    subset ='training',\n",
    "    validation_split=0.15\n",
    "    )\n",
    "validation_data =keras.preprocessing.image_dataset_from_directory(\n",
    "    tpath,\n",
    "    batch_size = 10,\n",
    "    image_size =(227,227),\n",
    "\n",
    "    shuffle = True,\n",
    "    seed =123,\n",
    "    validation_split =0.15,\n",
    "    subset ='validation'\n",
    "    \n",
    "    )"
   ]
  },
  {
   "cell_type": "code",
   "execution_count": 5,
   "id": "b1c657ac",
   "metadata": {
    "execution": {
     "iopub.execute_input": "2023-08-15T11:57:09.301824Z",
     "iopub.status.busy": "2023-08-15T11:57:09.301538Z",
     "iopub.status.idle": "2023-08-15T11:57:12.141470Z",
     "shell.execute_reply": "2023-08-15T11:57:12.140473Z"
    },
    "papermill": {
     "duration": 2.84669,
     "end_time": "2023-08-15T11:57:12.143915",
     "exception": false,
     "start_time": "2023-08-15T11:57:09.297225",
     "status": "completed"
    },
    "tags": []
   },
   "outputs": [
    {
     "name": "stdout",
     "output_type": "stream",
     "text": [
      "Downloading data from https://storage.googleapis.com/tensorflow/keras-applications/resnet/resnet50_weights_tf_dim_ordering_tf_kernels_notop.h5\n",
      "94765736/94765736 [==============================] - 0s 0us/step\n"
     ]
    }
   ],
   "source": [
    "resnet_model = Sequential()\n",
    "\n",
    "pretrained_model= keras.applications.ResNet50(include_top=False,\n",
    "                   input_shape=(227,227,3),\n",
    "                   pooling='avg',classes=5,\n",
    "                   weights='imagenet')\n",
    "for layer in pretrained_model.layers:\n",
    "        layer.trainable=False\n",
    "\n",
    "resnet_model.add(pretrained_model)\n",
    "resnet_model.add(Flatten())\n",
    "resnet_model.add(Dense(512, activation='relu'))\n",
    "resnet_model.add(Dense(2, activation='softmax'))"
   ]
  },
  {
   "cell_type": "code",
   "execution_count": 6,
   "id": "0185a03c",
   "metadata": {
    "execution": {
     "iopub.execute_input": "2023-08-15T11:57:12.155374Z",
     "iopub.status.busy": "2023-08-15T11:57:12.153662Z",
     "iopub.status.idle": "2023-08-15T11:57:12.174855Z",
     "shell.execute_reply": "2023-08-15T11:57:12.173950Z"
    },
    "papermill": {
     "duration": 0.029171,
     "end_time": "2023-08-15T11:57:12.177477",
     "exception": false,
     "start_time": "2023-08-15T11:57:12.148306",
     "status": "completed"
    },
    "tags": []
   },
   "outputs": [],
   "source": [
    "resnet_model.compile(loss='sparse_categorical_crossentropy', optimizer=keras.optimizers.SGD(lr=0.0009), metrics=['accuracy'])"
   ]
  },
  {
   "cell_type": "code",
   "execution_count": 7,
   "id": "4e16bd48",
   "metadata": {
    "execution": {
     "iopub.execute_input": "2023-08-15T11:57:12.187453Z",
     "iopub.status.busy": "2023-08-15T11:57:12.186673Z",
     "iopub.status.idle": "2023-08-15T12:04:08.265525Z",
     "shell.execute_reply": "2023-08-15T12:04:08.264461Z"
    },
    "papermill": {
     "duration": 416.087079,
     "end_time": "2023-08-15T12:04:08.268764",
     "exception": false,
     "start_time": "2023-08-15T11:57:12.181685",
     "status": "completed"
    },
    "tags": []
   },
   "outputs": [
    {
     "name": "stdout",
     "output_type": "stream",
     "text": [
      "Epoch 1/10\n",
      "444/444 [==============================] - 62s 116ms/step - loss: 0.1794 - accuracy: 0.9323 - val_loss: 0.0960 - val_accuracy: 0.9693\n",
      "Epoch 2/10\n",
      "444/444 [==============================] - 34s 77ms/step - loss: 0.0943 - accuracy: 0.9639 - val_loss: 0.0857 - val_accuracy: 0.9719\n",
      "Epoch 3/10\n",
      "444/444 [==============================] - 35s 79ms/step - loss: 0.0776 - accuracy: 0.9696 - val_loss: 0.1412 - val_accuracy: 0.9412\n",
      "Epoch 4/10\n",
      "444/444 [==============================] - 35s 77ms/step - loss: 0.0710 - accuracy: 0.9729 - val_loss: 0.0744 - val_accuracy: 0.9719\n",
      "Epoch 5/10\n",
      "444/444 [==============================] - 36s 80ms/step - loss: 0.0569 - accuracy: 0.9793 - val_loss: 0.0819 - val_accuracy: 0.9680\n",
      "Epoch 6/10\n",
      "444/444 [==============================] - 36s 80ms/step - loss: 0.0529 - accuracy: 0.9804 - val_loss: 0.0837 - val_accuracy: 0.9706\n",
      "Epoch 7/10\n",
      "444/444 [==============================] - 33s 74ms/step - loss: 0.0519 - accuracy: 0.9811 - val_loss: 0.0635 - val_accuracy: 0.9770\n",
      "Epoch 8/10\n",
      "444/444 [==============================] - 33s 74ms/step - loss: 0.0453 - accuracy: 0.9824 - val_loss: 0.0722 - val_accuracy: 0.9706\n",
      "Epoch 9/10\n",
      "444/444 [==============================] - 33s 74ms/step - loss: 0.0381 - accuracy: 0.9874 - val_loss: 0.0720 - val_accuracy: 0.9719\n",
      "Epoch 10/10\n",
      "444/444 [==============================] - 33s 73ms/step - loss: 0.0454 - accuracy: 0.9844 - val_loss: 0.0856 - val_accuracy: 0.9680\n"
     ]
    }
   ],
   "source": [
    "epochs=10\n",
    "history = resnet_model.fit(\n",
    "    \n",
    "  training_data,\n",
    "  validation_data=validation_data,\n",
    "  epochs=epochs\n",
    ")"
   ]
  },
  {
   "cell_type": "code",
   "execution_count": null,
   "id": "18cd3b00",
   "metadata": {
    "papermill": {
     "duration": 0.290657,
     "end_time": "2023-08-15T12:04:08.931012",
     "exception": false,
     "start_time": "2023-08-15T12:04:08.640355",
     "status": "completed"
    },
    "tags": []
   },
   "outputs": [],
   "source": []
  }
 ],
 "metadata": {
  "kernelspec": {
   "display_name": "Python 3",
   "language": "python",
   "name": "python3"
  },
  "language_info": {
   "codemirror_mode": {
    "name": "ipython",
    "version": 3
   },
   "file_extension": ".py",
   "mimetype": "text/x-python",
   "name": "python",
   "nbconvert_exporter": "python",
   "pygments_lexer": "ipython3",
   "version": "3.10.12"
  },
  "papermill": {
   "default_parameters": {},
   "duration": 454.922627,
   "end_time": "2023-08-15T12:04:12.931709",
   "environment_variables": {},
   "exception": null,
   "input_path": "__notebook__.ipynb",
   "output_path": "__notebook__.ipynb",
   "parameters": {},
   "start_time": "2023-08-15T11:56:38.009082",
   "version": "2.4.0"
  }
 },
 "nbformat": 4,
 "nbformat_minor": 5
}
